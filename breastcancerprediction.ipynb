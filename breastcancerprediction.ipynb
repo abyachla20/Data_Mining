{
  "nbformat": 4,
  "nbformat_minor": 0,
  "metadata": {
    "colab": {
      "name": "breastcancerprediction.ipynb",
      "provenance": [],
      "authorship_tag": "ABX9TyPuKKQoouGy4mUmhzy8FZfs",
      "include_colab_link": true
    },
    "kernelspec": {
      "name": "python3",
      "display_name": "Python 3"
    },
    "language_info": {
      "name": "python"
    }
  },
  "cells": [
    {
      "cell_type": "markdown",
      "metadata": {
        "id": "view-in-github",
        "colab_type": "text"
      },
      "source": [
        "<a href=\"https://colab.research.google.com/github/abyachla20/Data_Mining/blob/main/breastcancerprediction.ipynb\" target=\"_parent\"><img src=\"https://colab.research.google.com/assets/colab-badge.svg\" alt=\"Open In Colab\"/></a>"
      ]
    },
    {
      "cell_type": "code",
      "metadata": {
        "id": "BjqGuGMfWmKy"
      },
      "source": [
        "import numpy as np\n",
        "import pandas as pd\n",
        "from sklearn import tree"
      ],
      "execution_count": 1,
      "outputs": []
    },
    {
      "cell_type": "code",
      "metadata": {
        "colab": {
          "base_uri": "https://localhost:8080/",
          "height": 605
        },
        "id": "0D_YMk5yWrgX",
        "outputId": "2846af8c-200c-48b3-fde1-37abb9f4700d"
      },
      "source": [
        "dataset = pd.read_csv('breast_cancer_dataset.csv')\n",
        "dataset"
      ],
      "execution_count": 2,
      "outputs": [
        {
          "output_type": "execute_result",
          "data": {
            "text/html": [
              "<div>\n",
              "<style scoped>\n",
              "    .dataframe tbody tr th:only-of-type {\n",
              "        vertical-align: middle;\n",
              "    }\n",
              "\n",
              "    .dataframe tbody tr th {\n",
              "        vertical-align: top;\n",
              "    }\n",
              "\n",
              "    .dataframe thead th {\n",
              "        text-align: right;\n",
              "    }\n",
              "</style>\n",
              "<table border=\"1\" class=\"dataframe\">\n",
              "  <thead>\n",
              "    <tr style=\"text-align: right;\">\n",
              "      <th></th>\n",
              "      <th>Age_At_The_Time_Of_Mammography</th>\n",
              "      <th>Radiologists_Assessment</th>\n",
              "      <th>Is_Binary_Indicator_Of_Cancer_Diagnosis</th>\n",
              "      <th>Comparison_Mammogram_From_Mammography</th>\n",
              "      <th>Patients_BI_RADS_Breast_Density</th>\n",
              "      <th>Family_History_Of_Breast_Cancer</th>\n",
              "      <th>Current_Use_Of_Hormone_Therapy</th>\n",
              "      <th>Binary_Indicator</th>\n",
              "      <th>History_Of_Breast_Biopsy</th>\n",
              "      <th>Is_Film_Or_Digital_Mammogram</th>\n",
              "      <th>Cancer_Type</th>\n",
              "      <th>Body_Mass_Index</th>\n",
              "      <th>Patients_Study_ID</th>\n",
              "    </tr>\n",
              "  </thead>\n",
              "  <tbody>\n",
              "    <tr>\n",
              "      <th>0</th>\n",
              "      <td>62</td>\n",
              "      <td>Negative</td>\n",
              "      <td>False</td>\n",
              "      <td>Yes</td>\n",
              "      <td>Scattered fibroglandular densities</td>\n",
              "      <td>No</td>\n",
              "      <td>No</td>\n",
              "      <td>Yes</td>\n",
              "      <td>No</td>\n",
              "      <td>False</td>\n",
              "      <td>No cancer diagnosis</td>\n",
              "      <td>240.235.443</td>\n",
              "      <td>1</td>\n",
              "    </tr>\n",
              "    <tr>\n",
              "      <th>1</th>\n",
              "      <td>65</td>\n",
              "      <td>Negative</td>\n",
              "      <td>False</td>\n",
              "      <td>Yes</td>\n",
              "      <td>Extremely dense</td>\n",
              "      <td>No</td>\n",
              "      <td>No</td>\n",
              "      <td>Yes</td>\n",
              "      <td>No</td>\n",
              "      <td>False</td>\n",
              "      <td>No cancer diagnosis</td>\n",
              "      <td>No</td>\n",
              "      <td>2</td>\n",
              "    </tr>\n",
              "    <tr>\n",
              "      <th>2</th>\n",
              "      <td>69</td>\n",
              "      <td>Needs additional imaging</td>\n",
              "      <td>False</td>\n",
              "      <td>Yes</td>\n",
              "      <td>Scattered fibroglandular densities</td>\n",
              "      <td>No</td>\n",
              "      <td>No</td>\n",
              "      <td>Yes</td>\n",
              "      <td>No</td>\n",
              "      <td>False</td>\n",
              "      <td>No cancer diagnosis</td>\n",
              "      <td>290.524.292</td>\n",
              "      <td>3</td>\n",
              "    </tr>\n",
              "    <tr>\n",
              "      <th>3</th>\n",
              "      <td>64</td>\n",
              "      <td>Benign findings</td>\n",
              "      <td>False</td>\n",
              "      <td>Yes</td>\n",
              "      <td>Scattered fibroglandular densities</td>\n",
              "      <td>No</td>\n",
              "      <td>No</td>\n",
              "      <td>Yes</td>\n",
              "      <td>No</td>\n",
              "      <td>False</td>\n",
              "      <td>No cancer diagnosis</td>\n",
              "      <td>No</td>\n",
              "      <td>4</td>\n",
              "    </tr>\n",
              "    <tr>\n",
              "      <th>4</th>\n",
              "      <td>63</td>\n",
              "      <td>Probably benign</td>\n",
              "      <td>False</td>\n",
              "      <td>Yes</td>\n",
              "      <td>Scattered fibroglandular densities</td>\n",
              "      <td>No</td>\n",
              "      <td>No</td>\n",
              "      <td>Yes</td>\n",
              "      <td>Yes</td>\n",
              "      <td>False</td>\n",
              "      <td>No cancer diagnosis</td>\n",
              "      <td>337.295.227</td>\n",
              "      <td>5</td>\n",
              "    </tr>\n",
              "    <tr>\n",
              "      <th>...</th>\n",
              "      <td>...</td>\n",
              "      <td>...</td>\n",
              "      <td>...</td>\n",
              "      <td>...</td>\n",
              "      <td>...</td>\n",
              "      <td>...</td>\n",
              "      <td>...</td>\n",
              "      <td>...</td>\n",
              "      <td>...</td>\n",
              "      <td>...</td>\n",
              "      <td>...</td>\n",
              "      <td>...</td>\n",
              "      <td>...</td>\n",
              "    </tr>\n",
              "    <tr>\n",
              "      <th>39993</th>\n",
              "      <td>80</td>\n",
              "      <td>Negative</td>\n",
              "      <td>False</td>\n",
              "      <td>Yes</td>\n",
              "      <td>Almost entirely fatty</td>\n",
              "      <td>No</td>\n",
              "      <td>No</td>\n",
              "      <td>Yes</td>\n",
              "      <td>No</td>\n",
              "      <td>False</td>\n",
              "      <td>No cancer diagnosis</td>\n",
              "      <td>No</td>\n",
              "      <td>36711</td>\n",
              "    </tr>\n",
              "    <tr>\n",
              "      <th>39994</th>\n",
              "      <td>78</td>\n",
              "      <td>Negative</td>\n",
              "      <td>False</td>\n",
              "      <td>Yes</td>\n",
              "      <td>Heterogeneously dense</td>\n",
              "      <td>No</td>\n",
              "      <td>No</td>\n",
              "      <td>Yes</td>\n",
              "      <td>No</td>\n",
              "      <td>False</td>\n",
              "      <td>No cancer diagnosis</td>\n",
              "      <td>No</td>\n",
              "      <td>36712</td>\n",
              "    </tr>\n",
              "    <tr>\n",
              "      <th>39995</th>\n",
              "      <td>77</td>\n",
              "      <td>Negative</td>\n",
              "      <td>False</td>\n",
              "      <td>Yes</td>\n",
              "      <td>Scattered fibroglandular densities</td>\n",
              "      <td>No</td>\n",
              "      <td>No</td>\n",
              "      <td>Yes</td>\n",
              "      <td>No</td>\n",
              "      <td>False</td>\n",
              "      <td>No cancer diagnosis</td>\n",
              "      <td>No</td>\n",
              "      <td>36712</td>\n",
              "    </tr>\n",
              "    <tr>\n",
              "      <th>39996</th>\n",
              "      <td>66</td>\n",
              "      <td>Negative</td>\n",
              "      <td>False</td>\n",
              "      <td>Yes</td>\n",
              "      <td>Scattered fibroglandular densities</td>\n",
              "      <td>No</td>\n",
              "      <td>No</td>\n",
              "      <td>Yes</td>\n",
              "      <td>Yes</td>\n",
              "      <td>False</td>\n",
              "      <td>No cancer diagnosis</td>\n",
              "      <td>No</td>\n",
              "      <td>36713</td>\n",
              "    </tr>\n",
              "    <tr>\n",
              "      <th>39997</th>\n",
              "      <td>61</td>\n",
              "      <td>Negative</td>\n",
              "      <td>False</td>\n",
              "      <td>Yes</td>\n",
              "      <td>Heterogeneously dense</td>\n",
              "      <td>No</td>\n",
              "      <td>No</td>\n",
              "      <td>Yes</td>\n",
              "      <td>No</td>\n",
              "      <td>False</td>\n",
              "      <td>No cancer diagnosis</td>\n",
              "      <td>255.440.216</td>\n",
              "      <td>36714</td>\n",
              "    </tr>\n",
              "  </tbody>\n",
              "</table>\n",
              "<p>39998 rows × 13 columns</p>\n",
              "</div>"
            ],
            "text/plain": [
              "       Age_At_The_Time_Of_Mammography  ... Patients_Study_ID\n",
              "0                                  62  ...                 1\n",
              "1                                  65  ...                 2\n",
              "2                                  69  ...                 3\n",
              "3                                  64  ...                 4\n",
              "4                                  63  ...                 5\n",
              "...                               ...  ...               ...\n",
              "39993                              80  ...             36711\n",
              "39994                              78  ...             36712\n",
              "39995                              77  ...             36712\n",
              "39996                              66  ...             36713\n",
              "39997                              61  ...             36714\n",
              "\n",
              "[39998 rows x 13 columns]"
            ]
          },
          "metadata": {
            "tags": []
          },
          "execution_count": 2
        }
      ]
    },
    {
      "cell_type": "code",
      "metadata": {
        "id": "5LzM3lHMW7jT"
      },
      "source": [
        "dataset[\"Is_Binary_Indicator_Of_Cancer_Diagnosis\"] = pd.factorize(dataset.Is_Binary_Indicator_Of_Cancer_Diagnosis)[0]\n",
        "dataset[\"Comparison_Mammogram_From_Mammography\"] = pd.factorize(dataset.Comparison_Mammogram_From_Mammography)[0]\n",
        "dataset[\"Family_History_Of_Breast_Cancer\"] = pd.factorize(dataset.Family_History_Of_Breast_Cancer)[0]\n",
        "dataset[\"Current_Use_Of_Hormone_Therapy\"] = pd.factorize(dataset.Current_Use_Of_Hormone_Therapy)[0]\n",
        "dataset[\"Binary_Indicator\"] = pd.factorize(dataset.Binary_Indicator)[0]\n",
        "dataset[\"History_Of_Breast_Biopsy\"] = pd.factorize(dataset.History_Of_Breast_Biopsy)[0]\n",
        "dataset[\"Is_Film_Or_Digital_Mammogram\"] = pd.factorize(dataset.Is_Film_Or_Digital_Mammogram)[0]\n",
        "dataset[\"Cancer_Type\"] = pd.factorize(dataset.Cancer_Type)[0]"
      ],
      "execution_count": 3,
      "outputs": []
    },
    {
      "cell_type": "code",
      "metadata": {
        "colab": {
          "base_uri": "https://localhost:8080/"
        },
        "id": "ypsMfm43XHPN",
        "outputId": "5f4acf63-c8fb-422d-fe6e-af7df3bc6929"
      },
      "source": [
        "print(dataset)"
      ],
      "execution_count": 4,
      "outputs": [
        {
          "output_type": "stream",
          "text": [
            "       Age_At_The_Time_Of_Mammography  ... Patients_Study_ID\n",
            "0                                  62  ...                 1\n",
            "1                                  65  ...                 2\n",
            "2                                  69  ...                 3\n",
            "3                                  64  ...                 4\n",
            "4                                  63  ...                 5\n",
            "...                               ...  ...               ...\n",
            "39993                              80  ...             36711\n",
            "39994                              78  ...             36712\n",
            "39995                              77  ...             36712\n",
            "39996                              66  ...             36713\n",
            "39997                              61  ...             36714\n",
            "\n",
            "[39998 rows x 13 columns]\n"
          ],
          "name": "stdout"
        }
      ]
    },
    {
      "cell_type": "code",
      "metadata": {
        "colab": {
          "base_uri": "https://localhost:8080/",
          "height": 437
        },
        "id": "W_XcJldiBxPC",
        "outputId": "e1bc659a-a746-4fb2-9989-1396225030f6"
      },
      "source": [
        "dataset = dataset.drop(labels=\"Patients_BI_RADS_Breast_Density\", axis=1)\n",
        "dataset = dataset.drop(labels=\"Body_Mass_Index\", axis=1)\n",
        "dataset = dataset.drop(labels=\"Radiologists_Assessment\", axis=1)\n",
        "dataset = dataset.drop(labels=\"Age_At_The_Time_Of_Mammography\", axis=1)\n",
        "dataset = dataset.drop(labels=\"Patients_Study_ID\", axis=1)\n",
        "dataset"
      ],
      "execution_count": 5,
      "outputs": [
        {
          "output_type": "execute_result",
          "data": {
            "text/html": [
              "<div>\n",
              "<style scoped>\n",
              "    .dataframe tbody tr th:only-of-type {\n",
              "        vertical-align: middle;\n",
              "    }\n",
              "\n",
              "    .dataframe tbody tr th {\n",
              "        vertical-align: top;\n",
              "    }\n",
              "\n",
              "    .dataframe thead th {\n",
              "        text-align: right;\n",
              "    }\n",
              "</style>\n",
              "<table border=\"1\" class=\"dataframe\">\n",
              "  <thead>\n",
              "    <tr style=\"text-align: right;\">\n",
              "      <th></th>\n",
              "      <th>Is_Binary_Indicator_Of_Cancer_Diagnosis</th>\n",
              "      <th>Comparison_Mammogram_From_Mammography</th>\n",
              "      <th>Family_History_Of_Breast_Cancer</th>\n",
              "      <th>Current_Use_Of_Hormone_Therapy</th>\n",
              "      <th>Binary_Indicator</th>\n",
              "      <th>History_Of_Breast_Biopsy</th>\n",
              "      <th>Is_Film_Or_Digital_Mammogram</th>\n",
              "      <th>Cancer_Type</th>\n",
              "    </tr>\n",
              "  </thead>\n",
              "  <tbody>\n",
              "    <tr>\n",
              "      <th>0</th>\n",
              "      <td>0</td>\n",
              "      <td>0</td>\n",
              "      <td>0</td>\n",
              "      <td>0</td>\n",
              "      <td>0</td>\n",
              "      <td>0</td>\n",
              "      <td>0</td>\n",
              "      <td>0</td>\n",
              "    </tr>\n",
              "    <tr>\n",
              "      <th>1</th>\n",
              "      <td>0</td>\n",
              "      <td>0</td>\n",
              "      <td>0</td>\n",
              "      <td>0</td>\n",
              "      <td>0</td>\n",
              "      <td>0</td>\n",
              "      <td>0</td>\n",
              "      <td>0</td>\n",
              "    </tr>\n",
              "    <tr>\n",
              "      <th>2</th>\n",
              "      <td>0</td>\n",
              "      <td>0</td>\n",
              "      <td>0</td>\n",
              "      <td>0</td>\n",
              "      <td>0</td>\n",
              "      <td>0</td>\n",
              "      <td>0</td>\n",
              "      <td>0</td>\n",
              "    </tr>\n",
              "    <tr>\n",
              "      <th>3</th>\n",
              "      <td>0</td>\n",
              "      <td>0</td>\n",
              "      <td>0</td>\n",
              "      <td>0</td>\n",
              "      <td>0</td>\n",
              "      <td>0</td>\n",
              "      <td>0</td>\n",
              "      <td>0</td>\n",
              "    </tr>\n",
              "    <tr>\n",
              "      <th>4</th>\n",
              "      <td>0</td>\n",
              "      <td>0</td>\n",
              "      <td>0</td>\n",
              "      <td>0</td>\n",
              "      <td>0</td>\n",
              "      <td>1</td>\n",
              "      <td>0</td>\n",
              "      <td>0</td>\n",
              "    </tr>\n",
              "    <tr>\n",
              "      <th>...</th>\n",
              "      <td>...</td>\n",
              "      <td>...</td>\n",
              "      <td>...</td>\n",
              "      <td>...</td>\n",
              "      <td>...</td>\n",
              "      <td>...</td>\n",
              "      <td>...</td>\n",
              "      <td>...</td>\n",
              "    </tr>\n",
              "    <tr>\n",
              "      <th>39993</th>\n",
              "      <td>0</td>\n",
              "      <td>0</td>\n",
              "      <td>0</td>\n",
              "      <td>0</td>\n",
              "      <td>0</td>\n",
              "      <td>0</td>\n",
              "      <td>0</td>\n",
              "      <td>0</td>\n",
              "    </tr>\n",
              "    <tr>\n",
              "      <th>39994</th>\n",
              "      <td>0</td>\n",
              "      <td>0</td>\n",
              "      <td>0</td>\n",
              "      <td>0</td>\n",
              "      <td>0</td>\n",
              "      <td>0</td>\n",
              "      <td>0</td>\n",
              "      <td>0</td>\n",
              "    </tr>\n",
              "    <tr>\n",
              "      <th>39995</th>\n",
              "      <td>0</td>\n",
              "      <td>0</td>\n",
              "      <td>0</td>\n",
              "      <td>0</td>\n",
              "      <td>0</td>\n",
              "      <td>0</td>\n",
              "      <td>0</td>\n",
              "      <td>0</td>\n",
              "    </tr>\n",
              "    <tr>\n",
              "      <th>39996</th>\n",
              "      <td>0</td>\n",
              "      <td>0</td>\n",
              "      <td>0</td>\n",
              "      <td>0</td>\n",
              "      <td>0</td>\n",
              "      <td>1</td>\n",
              "      <td>0</td>\n",
              "      <td>0</td>\n",
              "    </tr>\n",
              "    <tr>\n",
              "      <th>39997</th>\n",
              "      <td>0</td>\n",
              "      <td>0</td>\n",
              "      <td>0</td>\n",
              "      <td>0</td>\n",
              "      <td>0</td>\n",
              "      <td>0</td>\n",
              "      <td>0</td>\n",
              "      <td>0</td>\n",
              "    </tr>\n",
              "  </tbody>\n",
              "</table>\n",
              "<p>39998 rows × 8 columns</p>\n",
              "</div>"
            ],
            "text/plain": [
              "       Is_Binary_Indicator_Of_Cancer_Diagnosis  ...  Cancer_Type\n",
              "0                                            0  ...            0\n",
              "1                                            0  ...            0\n",
              "2                                            0  ...            0\n",
              "3                                            0  ...            0\n",
              "4                                            0  ...            0\n",
              "...                                        ...  ...          ...\n",
              "39993                                        0  ...            0\n",
              "39994                                        0  ...            0\n",
              "39995                                        0  ...            0\n",
              "39996                                        0  ...            0\n",
              "39997                                        0  ...            0\n",
              "\n",
              "[39998 rows x 8 columns]"
            ]
          },
          "metadata": {
            "tags": []
          },
          "execution_count": 5
        }
      ]
    },
    {
      "cell_type": "code",
      "metadata": {
        "id": "yNSzmEw3B526"
      },
      "source": [
        "dataset = dataset.to_numpy()"
      ],
      "execution_count": 6,
      "outputs": []
    },
    {
      "cell_type": "code",
      "metadata": {
        "colab": {
          "base_uri": "https://localhost:8080/"
        },
        "id": "fPS0rvIhDFaw",
        "outputId": "8f8d55ad-6f95-4da1-ce76-987209f30dad"
      },
      "source": [
        "print(dataset)"
      ],
      "execution_count": 7,
      "outputs": [
        {
          "output_type": "stream",
          "text": [
            "[[0 0 0 ... 0 0 0]\n",
            " [0 0 0 ... 0 0 0]\n",
            " [0 0 0 ... 0 0 0]\n",
            " ...\n",
            " [0 0 0 ... 0 0 0]\n",
            " [0 0 0 ... 1 0 0]\n",
            " [0 0 0 ... 0 0 0]]\n"
          ],
          "name": "stdout"
        }
      ]
    },
    {
      "cell_type": "code",
      "metadata": {
        "id": "opBXc8QoiELp"
      },
      "source": [
        "dataTraining = np.concatenate((dataset[0:9999, :], dataset[9999:19999, :]),\n",
        "                              axis=0)\n",
        "dataTesting = np.concatenate((dataset[19999:29998, :], dataset[29998:39998, :]),\n",
        "                             axis=0)"
      ],
      "execution_count": 8,
      "outputs": []
    },
    {
      "cell_type": "code",
      "metadata": {
        "colab": {
          "base_uri": "https://localhost:8080/"
        },
        "id": "YVmIuF6IkTMJ",
        "outputId": "e09af94b-209f-4fd8-f175-6dc7d51b3191"
      },
      "source": [
        "print(dataTraining)\n",
        "len(dataTraining)"
      ],
      "execution_count": 9,
      "outputs": [
        {
          "output_type": "stream",
          "text": [
            "[[0 0 0 ... 0 0 0]\n",
            " [0 0 0 ... 0 0 0]\n",
            " [0 0 0 ... 0 0 0]\n",
            " ...\n",
            " [0 0 0 ... 0 0 0]\n",
            " [0 0 0 ... 0 0 0]\n",
            " [0 0 0 ... 0 0 0]]\n"
          ],
          "name": "stdout"
        },
        {
          "output_type": "execute_result",
          "data": {
            "text/plain": [
              "19999"
            ]
          },
          "metadata": {
            "tags": []
          },
          "execution_count": 9
        }
      ]
    },
    {
      "cell_type": "code",
      "metadata": {
        "colab": {
          "base_uri": "https://localhost:8080/"
        },
        "id": "JgGBXjXgka_x",
        "outputId": "51af8847-c9eb-437f-bca1-1d7dea2904af"
      },
      "source": [
        "print(dataTesting)\n",
        "len(dataTesting)"
      ],
      "execution_count": 10,
      "outputs": [
        {
          "output_type": "stream",
          "text": [
            "[[0 0 0 ... 0 0 0]\n",
            " [0 0 0 ... 0 1 0]\n",
            " [0 1 0 ... 1 0 0]\n",
            " ...\n",
            " [0 0 0 ... 0 0 0]\n",
            " [0 0 0 ... 1 0 0]\n",
            " [0 0 0 ... 0 0 0]]\n"
          ],
          "name": "stdout"
        },
        {
          "output_type": "execute_result",
          "data": {
            "text/plain": [
              "19999"
            ]
          },
          "metadata": {
            "tags": []
          },
          "execution_count": 10
        }
      ]
    },
    {
      "cell_type": "code",
      "metadata": {
        "colab": {
          "base_uri": "https://localhost:8080/"
        },
        "id": "W9sxSNqKlU0C",
        "outputId": "fe66d5ad-e2e3-4b6b-ed20-7dd6e22126c3"
      },
      "source": [
        "inputTraining = dataTraining[:, 0:7]\n",
        "inputTesting = dataTesting[:, 0:7]\n",
        "labelTraining = dataTraining[:, 7]\n",
        "labelTesting = dataTesting[:, 7]\n",
        "print(labelTraining)\n",
        "len(labelTraining)"
      ],
      "execution_count": 11,
      "outputs": [
        {
          "output_type": "stream",
          "text": [
            "[0 0 0 ... 0 0 0]\n"
          ],
          "name": "stdout"
        },
        {
          "output_type": "execute_result",
          "data": {
            "text/plain": [
              "19999"
            ]
          },
          "metadata": {
            "tags": []
          },
          "execution_count": 11
        }
      ]
    },
    {
      "cell_type": "code",
      "metadata": {
        "id": "GS94SDckoHqC"
      },
      "source": [
        "model = tree.DecisionTreeClassifier()"
      ],
      "execution_count": 12,
      "outputs": []
    },
    {
      "cell_type": "code",
      "metadata": {
        "id": "9Joi1b0BoVYa"
      },
      "source": [
        "model = model.fit(inputTraining, labelTraining)"
      ],
      "execution_count": 13,
      "outputs": []
    },
    {
      "cell_type": "code",
      "metadata": {
        "colab": {
          "base_uri": "https://localhost:8080/"
        },
        "id": "halceybSpXva",
        "outputId": "aa457376-b81f-441f-9378-724c920a2159"
      },
      "source": [
        "hasilPrediksi = model.predict(inputTesting)\n",
        "print(\"Label Sebenarnya : \",labelTesting)\n",
        "print(\"HasilPrediksi : \", hasilPrediksi)"
      ],
      "execution_count": 14,
      "outputs": [
        {
          "output_type": "stream",
          "text": [
            "Label Sebenarnya :  [0 0 0 ... 0 0 0]\n",
            "HasilPrediksi :  [0 0 0 ... 0 0 0]\n"
          ],
          "name": "stdout"
        }
      ]
    },
    {
      "cell_type": "code",
      "metadata": {
        "colab": {
          "base_uri": "https://localhost:8080/"
        },
        "id": "n7vS3K2Hp4x3",
        "outputId": "b7832fd6-cf5a-4e79-ff73-f809a8bd9367"
      },
      "source": [
        "prediksiBenar = (hasilPrediksi == labelTesting).sum()\n",
        "prediksiSalah = (hasilPrediksi != labelTesting).sum()\n",
        "print(\"Prediksi Benar : \", prediksiBenar, \"data\")\n",
        "print(\"Prediksi Salah : \", prediksiSalah, \"data\")\n",
        "print(\"Akurasi : \", prediksiBenar/(prediksiBenar+prediksiSalah) * 100, \"%\")"
      ],
      "execution_count": 15,
      "outputs": [
        {
          "output_type": "stream",
          "text": [
            "Prediksi Benar :  19974 data\n",
            "Prediksi Salah :  25 data\n",
            "Akurasi :  99.87499374968748 %\n"
          ],
          "name": "stdout"
        }
      ]
    }
  ]
}