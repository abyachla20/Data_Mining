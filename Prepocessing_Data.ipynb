{
  "nbformat": 4,
  "nbformat_minor": 0,
  "metadata": {
    "colab": {
      "name": "Prepocessing Data.ipynb",
      "provenance": [],
      "collapsed_sections": [],
      "authorship_tag": "ABX9TyP9ataROy44HBLWb88w+PhT",
      "include_colab_link": true
    },
    "kernelspec": {
      "name": "python3",
      "display_name": "Python 3"
    },
    "language_info": {
      "name": "python"
    }
  },
  "cells": [
    {
      "cell_type": "markdown",
      "metadata": {
        "id": "view-in-github",
        "colab_type": "text"
      },
      "source": [
        "<a href=\"https://colab.research.google.com/github/abyachla20/Data_Mining/blob/main/Prepocessing_Data.ipynb\" target=\"_parent\"><img src=\"https://colab.research.google.com/assets/colab-badge.svg\" alt=\"Open In Colab\"/></a>"
      ]
    },
    {
      "cell_type": "code",
      "metadata": {
        "id": "e6429kbgem9l"
      },
      "source": [
        "import numpy as np\n",
        "import matplotlib.pyplot as plt\n",
        "import pandas as pd"
      ],
      "execution_count": 39,
      "outputs": []
    },
    {
      "cell_type": "code",
      "metadata": {
        "id": "UO9-fLkvffil"
      },
      "source": [
        "dataset = pd.read_csv('Data2.csv')\n",
        "x = dataset.iloc[:, :-1].values\n",
        "y = dataset.iloc[:, -1].values"
      ],
      "execution_count": 40,
      "outputs": []
    },
    {
      "cell_type": "code",
      "metadata": {
        "colab": {
          "base_uri": "https://localhost:8080/"
        },
        "id": "QtSxoJN3f1gb",
        "outputId": "ff3413b3-419f-4bff-b760-cb41ca7167d5"
      },
      "source": [
        "print(x)"
      ],
      "execution_count": 41,
      "outputs": [
        {
          "output_type": "stream",
          "text": [
            "[['CPU' 16.0 2500000.0]\n",
            " ['RAM' 28.0 1200000.0]\n",
            " ['VGA' 12.0 4000000.0]\n",
            " ['SSD' 32.0 1000000.0]\n",
            " ['SSD' 24.0 nan]\n",
            " ['Casing' 25.0 450000.0]\n",
            " ['VGA' nan 800000.0]\n",
            " ['Motherboard' 30.0 700000.0]\n",
            " ['Cooler' 35.0 900000.0]\n",
            " ['Fan' 45.0 300000.0]]\n"
          ],
          "name": "stdout"
        }
      ]
    },
    {
      "cell_type": "code",
      "metadata": {
        "colab": {
          "base_uri": "https://localhost:8080/"
        },
        "id": "sVvxCB6SgHlU",
        "outputId": "c362f213-f3f0-4c1f-b314-165d57e80222"
      },
      "source": [
        "print(y)"
      ],
      "execution_count": 42,
      "outputs": [
        {
          "output_type": "stream",
          "text": [
            "['Yes' 'No' 'No' 'Yes' 'Yes' 'No' 'Yes' 'Yes' 'Yes' 'No']\n"
          ],
          "name": "stdout"
        }
      ]
    },
    {
      "cell_type": "code",
      "metadata": {
        "id": "o3SjgVregNWj"
      },
      "source": [
        "from sklearn.impute import SimpleImputer\n",
        "imputer = SimpleImputer(missing_values=np.nan, strategy='mean')\n",
        "imputer.fit(x[:, 1:3])\n",
        "x[:, 1:3] =imputer.transform(x[:, 1:3])"
      ],
      "execution_count": 43,
      "outputs": []
    },
    {
      "cell_type": "code",
      "metadata": {
        "colab": {
          "base_uri": "https://localhost:8080/"
        },
        "id": "M-IoUpSvgavz",
        "outputId": "a3648d78-2c94-4539-84aa-6332091e3c5c"
      },
      "source": [
        "print(x)"
      ],
      "execution_count": 44,
      "outputs": [
        {
          "output_type": "stream",
          "text": [
            "[['CPU' 16.0 2500000.0]\n",
            " ['RAM' 28.0 1200000.0]\n",
            " ['VGA' 12.0 4000000.0]\n",
            " ['SSD' 32.0 1000000.0]\n",
            " ['SSD' 24.0 1316666.6666666667]\n",
            " ['Casing' 25.0 450000.0]\n",
            " ['VGA' 27.444444444444443 800000.0]\n",
            " ['Motherboard' 30.0 700000.0]\n",
            " ['Cooler' 35.0 900000.0]\n",
            " ['Fan' 45.0 300000.0]]\n"
          ],
          "name": "stdout"
        }
      ]
    },
    {
      "cell_type": "code",
      "metadata": {
        "id": "hdcfIS0phGKV"
      },
      "source": [
        "from sklearn.compose import ColumnTransformer\n",
        "from sklearn.preprocessing import OneHotEncoder\n",
        "ct= ColumnTransformer(transformers=[('encoder', OneHotEncoder(), [0])], remainder='passthrough')\n",
        "x = np.array(ct.fit_transform(x))"
      ],
      "execution_count": 46,
      "outputs": []
    },
    {
      "cell_type": "code",
      "metadata": {
        "colab": {
          "base_uri": "https://localhost:8080/"
        },
        "id": "koxt0oSmhLEF",
        "outputId": "d14c5586-cfc1-434c-8489-282c0c7baffd"
      },
      "source": [
        "print(x)"
      ],
      "execution_count": 47,
      "outputs": [
        {
          "output_type": "stream",
          "text": [
            "[[0.0 1.0 0.0 0.0 0.0 0.0 0.0 0.0 0.0 16.0 2500000.0]\n",
            " [1.0 0.0 0.0 0.0 0.0 0.0 1.0 0.0 0.0 28.0 1200000.0]\n",
            " [1.0 0.0 0.0 0.0 0.0 0.0 0.0 0.0 1.0 12.0 4000000.0]\n",
            " [1.0 0.0 0.0 0.0 0.0 0.0 0.0 1.0 0.0 32.0 1000000.0]\n",
            " [1.0 0.0 0.0 0.0 0.0 0.0 0.0 1.0 0.0 24.0 1316666.6666666667]\n",
            " [1.0 0.0 1.0 0.0 0.0 0.0 0.0 0.0 0.0 25.0 450000.0]\n",
            " [1.0 0.0 0.0 0.0 0.0 0.0 0.0 0.0 1.0 27.444444444444443 800000.0]\n",
            " [1.0 0.0 0.0 0.0 0.0 1.0 0.0 0.0 0.0 30.0 700000.0]\n",
            " [1.0 0.0 0.0 1.0 0.0 0.0 0.0 0.0 0.0 35.0 900000.0]\n",
            " [1.0 0.0 0.0 0.0 1.0 0.0 0.0 0.0 0.0 45.0 300000.0]]\n"
          ],
          "name": "stdout"
        }
      ]
    },
    {
      "cell_type": "code",
      "metadata": {
        "id": "1GJzlkx6itpQ"
      },
      "source": [
        "from sklearn.preprocessing import LabelEncoder\n",
        "le = LabelEncoder()\n",
        "y = le.fit_transform(y)"
      ],
      "execution_count": 48,
      "outputs": []
    },
    {
      "cell_type": "code",
      "metadata": {
        "colab": {
          "base_uri": "https://localhost:8080/"
        },
        "id": "kW82I1Z_iyoV",
        "outputId": "3cb59cca-4f39-4ee8-ba7e-2e7f07bf2e7f"
      },
      "source": [
        "print(y)"
      ],
      "execution_count": 50,
      "outputs": [
        {
          "output_type": "stream",
          "text": [
            "[1 0 0 1 1 0 1 1 1 0]\n"
          ],
          "name": "stdout"
        }
      ]
    },
    {
      "cell_type": "code",
      "metadata": {
        "id": "K2jLv-B9i4F1"
      },
      "source": [
        "from sklearn.model_selection import train_test_split\n",
        "x_train, x_test, y_train, y_test = train_test_split(x, y, test_size=0.2,  random_state=1)"
      ],
      "execution_count": 51,
      "outputs": []
    },
    {
      "cell_type": "code",
      "metadata": {
        "colab": {
          "base_uri": "https://localhost:8080/"
        },
        "id": "Pabz-TSpeFil",
        "outputId": "545cdf02-b863-48ad-d1b5-27bbf3304a16"
      },
      "source": [
        "print(x_train)"
      ],
      "execution_count": 52,
      "outputs": [
        {
          "output_type": "stream",
          "text": [
            "[[1.0 0.0 0.0 0.0 0.0 0.0 0.0 0.0 1.0 27.444444444444443 800000.0]\n",
            " [1.0 0.0 0.0 0.0 0.0 0.0 0.0 1.0 0.0 24.0 1316666.6666666667]\n",
            " [0.0 1.0 0.0 0.0 0.0 0.0 0.0 0.0 0.0 16.0 2500000.0]\n",
            " [1.0 0.0 0.0 0.0 0.0 0.0 0.0 1.0 0.0 32.0 1000000.0]\n",
            " [1.0 0.0 0.0 0.0 0.0 0.0 1.0 0.0 0.0 28.0 1200000.0]\n",
            " [1.0 0.0 0.0 0.0 0.0 1.0 0.0 0.0 0.0 30.0 700000.0]\n",
            " [1.0 0.0 0.0 1.0 0.0 0.0 0.0 0.0 0.0 35.0 900000.0]\n",
            " [1.0 0.0 1.0 0.0 0.0 0.0 0.0 0.0 0.0 25.0 450000.0]]\n"
          ],
          "name": "stdout"
        }
      ]
    },
    {
      "cell_type": "code",
      "metadata": {
        "colab": {
          "base_uri": "https://localhost:8080/"
        },
        "id": "X80toHSheQDw",
        "outputId": "6c44dc59-a64f-410c-8d62-e0285f0e02da"
      },
      "source": [
        "print(x_test)"
      ],
      "execution_count": 53,
      "outputs": [
        {
          "output_type": "stream",
          "text": [
            "[[1.0 0.0 0.0 0.0 0.0 0.0 0.0 0.0 1.0 12.0 4000000.0]\n",
            " [1.0 0.0 0.0 0.0 1.0 0.0 0.0 0.0 0.0 45.0 300000.0]]\n"
          ],
          "name": "stdout"
        }
      ]
    },
    {
      "cell_type": "code",
      "metadata": {
        "colab": {
          "base_uri": "https://localhost:8080/"
        },
        "id": "9vVWZejteYvi",
        "outputId": "6f18f4d5-739b-43d1-fde6-4805ba257849"
      },
      "source": [
        "print(y_train)"
      ],
      "execution_count": 54,
      "outputs": [
        {
          "output_type": "stream",
          "text": [
            "[1 1 1 1 0 1 1 0]\n"
          ],
          "name": "stdout"
        }
      ]
    },
    {
      "cell_type": "code",
      "metadata": {
        "colab": {
          "base_uri": "https://localhost:8080/"
        },
        "id": "LzZEWtLsehaB",
        "outputId": "e2654f2b-f6bb-4f4b-967f-d5b1a0f9485e"
      },
      "source": [
        "print(y_test)"
      ],
      "execution_count": 55,
      "outputs": [
        {
          "output_type": "stream",
          "text": [
            "[0 0]\n"
          ],
          "name": "stdout"
        }
      ]
    },
    {
      "cell_type": "code",
      "metadata": {
        "id": "J8zyelNHejHD"
      },
      "source": [
        "from sklearn.preprocessing import StandardScaler\n",
        "sc = StandardScaler()\n",
        "x_train[:, 4:] = sc.fit_transform(x_train[:, 4:])\n",
        "x_test[:, 4:] = sc.transform(x_test[:, 4:])"
      ],
      "execution_count": 56,
      "outputs": []
    },
    {
      "cell_type": "code",
      "metadata": {
        "colab": {
          "base_uri": "https://localhost:8080/"
        },
        "id": "1Or0BfaWenPE",
        "outputId": "cd059b89-70d0-49fc-b6eb-ca52ca676916"
      },
      "source": [
        "print(x_train)"
      ],
      "execution_count": 57,
      "outputs": [
        {
          "output_type": "stream",
          "text": [
            "[[1.0 0.0 0.0 0.0 0.0 -0.3779644730092272 -0.3779644730092272\n",
            "  -0.5773502691896258 2.6457513110645903 0.048904307356633196\n",
            "  -0.5269607450036939]\n",
            " [1.0 0.0 0.0 0.0 0.0 -0.3779644730092272 -0.3779644730092272\n",
            "  1.7320508075688774 -0.3779644730092272 -0.5894255991931128\n",
            "  0.35605455743492803]\n",
            " [0.0 1.0 0.0 0.0 0.0 -0.3779644730092272 -0.3779644730092272\n",
            "  -0.5773502691896258 -0.3779644730092272 -2.0719982853731684\n",
            "  2.37844444366532]\n",
            " [1.0 0.0 0.0 0.0 0.0 -0.3779644730092272 -0.3779644730092272\n",
            "  1.7320508075688774 -0.3779644730092272 0.893147086986943\n",
            "  -0.18514836986616293]\n",
            " [1.0 0.0 0.0 0.0 0.0 -0.3779644730092272 2.6457513110645903\n",
            "  -0.5773502691896258 -0.3779644730092272 0.15186074389691515\n",
            "  0.15666400527136815]\n",
            " [1.0 0.0 0.0 0.0 0.0 2.6457513110645903 -0.3779644730092272\n",
            "  -0.5773502691896258 -0.3779644730092272 0.5225039154419291\n",
            "  -0.6978669325724595]\n",
            " [1.0 0.0 0.0 1.0 0.0 -0.3779644730092272 -0.3779644730092272\n",
            "  -0.5773502691896258 -0.3779644730092272 1.449111844304464\n",
            "  -0.3560545574349285]\n",
            " [1.0 0.0 1.0 0.0 0.0 -0.3779644730092272 -0.3779644730092272\n",
            "  -0.5773502691896258 -0.3779644730092272 -0.40410401342060576\n",
            "  -1.1251324014943733]]\n"
          ],
          "name": "stdout"
        }
      ]
    },
    {
      "cell_type": "code",
      "metadata": {
        "colab": {
          "base_uri": "https://localhost:8080/"
        },
        "id": "YaWD7TI1ers_",
        "outputId": "a144a04b-c2ab-4c09-bf49-67c184b4fb7b"
      },
      "source": [
        "print(x_test)"
      ],
      "execution_count": 58,
      "outputs": [
        {
          "output_type": "stream",
          "text": [
            "[[1.0 0.0 0.0 0.0 0.0 -0.3779644730092272 -0.3779644730092272\n",
            "  -0.5773502691896258 2.6457513110645903 -2.8132846284631965\n",
            "  4.9420372571968025]\n",
            " [1.0 0.0 0.0 0.0 1.0 -0.3779644730092272 -0.3779644730092272\n",
            "  -0.5773502691896258 -0.3779644730092272 3.3023277020295336\n",
            "  -1.3814916828475217]]\n"
          ],
          "name": "stdout"
        }
      ]
    }
  ]
}